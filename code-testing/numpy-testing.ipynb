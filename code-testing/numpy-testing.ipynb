{
 "cells": [
  {
   "cell_type": "markdown",
   "id": "84ab464d",
   "metadata": {},
   "source": [
    "# How to calculate eigenvalues and eigenvectors of a 2D matrix"
   ]
  },
  {
   "cell_type": "code",
   "execution_count": 2,
   "id": "cb60f76e",
   "metadata": {},
   "outputs": [
    {
     "name": "stdout",
     "output_type": "stream",
     "text": [
      "Eigenvalues:\n",
      "-0.3722813232690143\n",
      "5.372281323269014\n",
      "\n",
      "Eigenvectors:\n",
      "[-0.82456484  0.56576746]\n",
      "[-0.41597356 -0.90937671]\n"
     ]
    }
   ],
   "source": [
    "import numpy as np\n",
    "\n",
    "# Define the matrix\n",
    "matrix = np.array([[1, 2], [3, 4]])\n",
    "\n",
    "# Find eigenvalues and eigenvectors\n",
    "eigenvalues, eigenvectors = np.linalg.eig(matrix)\n",
    "\n",
    "# Print eigenvalues\n",
    "print(\"Eigenvalues:\")\n",
    "for eigenvalue in eigenvalues:\n",
    "    print(eigenvalue)\n",
    "\n",
    "# Print eigenvectors\n",
    "print(\"\\nEigenvectors:\")\n",
    "for eigenvector in eigenvectors.T:\n",
    "    print(eigenvector)\n"
   ]
  },
  {
   "cell_type": "markdown",
   "id": "64a3c9a1",
   "metadata": {},
   "source": [
    "# How to find the diagonalization of a 2D matrix (A=PDP^{-1})"
   ]
  },
  {
   "cell_type": "code",
   "execution_count": 7,
   "id": "27f538e3",
   "metadata": {},
   "outputs": [
    {
     "name": "stdout",
     "output_type": "stream",
     "text": [
      "Diagonalization:\n",
      "[[-0.37228132  0.        ]\n",
      " [ 0.          5.37228132]]\n",
      "[[-0.92305231  0.42222915]\n",
      " [-0.57427572 -0.83696501]]\n",
      "[[1. 2.]\n",
      " [3. 4.]]\n"
     ]
    }
   ],
   "source": [
    "import numpy as np\n",
    "\n",
    "# Define the matrix\n",
    "matrix = np.array([[1, 2], [3, 4]])\n",
    "\n",
    "# Compute eigenvalues and eigenvectors\n",
    "eigenvalues, eigenvectors = np.linalg.eig(matrix)\n",
    "\n",
    "# Create a diagonal matrix of eigenvalues\n",
    "diagonal_matrix = np.diag(eigenvalues)\n",
    "\n",
    "# Compute the inverse of the eigenvector matrix\n",
    "inverse_eigenvectors = np.linalg.inv(eigenvectors)\n",
    "\n",
    "# Compute the diagonalization\n",
    "diagonalization = eigenvectors.dot(diagonal_matrix).dot(inverse_eigenvectors)\n",
    "\n",
    "print(\"Diagonalization:\")\n",
    "print(diagonal_matrix)\n",
    "print(inverse_eigenvectors)\n",
    "print(diagonalization)\n"
   ]
  },
  {
   "cell_type": "markdown",
   "id": "5f985ad6",
   "metadata": {},
   "source": [
    "# Example of a for loop"
   ]
  },
  {
   "cell_type": "code",
   "execution_count": 16,
   "id": "59bf6d85",
   "metadata": {},
   "outputs": [
    {
     "name": "stdout",
     "output_type": "stream",
     "text": [
      "What is your preferred natural number? 10\n",
      "Sum: 55\n"
     ]
    }
   ],
   "source": [
    "# Calculating the sum of the first n natural numbers\n",
    "\n",
    "# Define the user's choice of natural number\n",
    "n = input(\"What is your preferred natural number? \")\n",
    "n = int(n)\n",
    "\n",
    "# For loop to calculate our sum\n",
    "total=0\n",
    "for i in range(1,n+1):\n",
    "    total += i\n",
    "\n",
    "# Print output\n",
    "print(\"Sum: \" + str(total))"
   ]
  }
 ],
 "metadata": {
  "kernelspec": {
   "display_name": "Python 3 (ipykernel)",
   "language": "python",
   "name": "python3"
  },
  "language_info": {
   "codemirror_mode": {
    "name": "ipython",
    "version": 3
   },
   "file_extension": ".py",
   "mimetype": "text/x-python",
   "name": "python",
   "nbconvert_exporter": "python",
   "pygments_lexer": "ipython3",
   "version": "3.11.3"
  }
 },
 "nbformat": 4,
 "nbformat_minor": 5
}
