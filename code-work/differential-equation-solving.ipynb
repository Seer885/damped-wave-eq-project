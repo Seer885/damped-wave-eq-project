{
 "cells": [
  {
   "cell_type": "code",
   "execution_count": 22,
   "id": "6f2d9bed",
   "metadata": {},
   "outputs": [],
   "source": [
    "def D1(dimension):\n",
    "    \"\"\"Used to make a matrix that enables y'(x) = 1/h * D1 * y(x)\"\"\"\n",
    "    import numpy as np\n",
    "\n",
    "    # Generate the 0 matrix as our starting point\n",
    "    matrix = np.zeros((dimension,dimension))\n",
    "\n",
    "    \n",
    "    \n",
    "\n",
    "    # Loop to cycle through every single value in the matrix\n",
    "    for row in range(dimension):\n",
    "        for column in range(dimension):\n",
    "        \n",
    "        # If the row and column have the same values, then we are at a diagonal\n",
    "            if row - column == 0:\n",
    "                matrix[row][column] = 1\n",
    "        \n",
    "        # If column value is 1 lower than row value, then we are at a value following the diagonal.\n",
    "            elif column - row == -1:\n",
    "                matrix[row][column] = -1\n",
    "\n",
    "                \n",
    "                \n",
    "      \n",
    "    return matrix"
   ]
  },
  {
   "cell_type": "markdown",
   "id": "201fb8ab",
   "metadata": {},
   "source": [
    "# Solving any dy/dx = c with y(0)=k and a<x<b "
   ]
  },
  {
   "cell_type": "code",
   "execution_count": 23,
   "id": "5fd27d74",
   "metadata": {},
   "outputs": [],
   "source": [
    "def constant_diff(constant, initial, x_max, interv_num):\n",
    "    \"\"\"For any dy/dx=c, we find that after some math, we get y(x+h)-y(x)=h*c, which becomes\n",
    "    D1*y(x)=h*c*[y(0);1;1;...]. This gives us y(x)=D1^{-1}*h*c*I.\"\"\"\n",
    "    import numpy as np\n",
    "    import matplotlib.pyplot as plt\n",
    "    \n",
    "    # Make our array of x-inputs and our interval width constant\n",
    "    x_min = 0\n",
    "    x_val = np.linspace(x_min, x_max, interv_num+1)\n",
    "    interv_width = (x_max - x_min) / interv_num\n",
    "    \n",
    "    \n",
    "    \n",
    "    \n",
    "    # Generate our I-matrix\n",
    "    # Start with our initial value at y(0)\n",
    "    i_matrix = np.array([initial])\n",
    "    \n",
    "    # Append 1's for other values of x\n",
    "    for i in range(interv_num):\n",
    "        i_matrix = np.append( i_matrix , np.array([1]) )\n",
    "    \n",
    "    \n",
    "    \n",
    "\n",
    "    # Create our y-values based on our equation y(x) = (interval width) * (constant) * (inverse D1) * (I matrix) \n",
    "    y_val = interv_width * constant * np.matmul( np.linalg.inv(D1(interv_num+1)) , i_matrix )\n",
    "    \n",
    "    \n",
    "    \n",
    "    \n",
    "    # Plot our values\n",
    "    plt.plot(x_val, y_val, color=\"black\")\n",
    "    plt.grid()\n",
    "    plt.xlabel(\"X-Axis\")\n",
    "    plt.ylabel(\"Y-Axis\")\n",
    "    plt.show()"
   ]
  },
  {
   "cell_type": "code",
   "execution_count": 24,
   "id": "ee4744d4",
   "metadata": {},
   "outputs": [
    {
     "data": {
      "image/png": "[encoded data removed]",
      "text/plain": [
       "<Figure size 432x288 with 1 Axes>"
      ]
     },
     "metadata": {
      "needs_background": "light"
     },
     "output_type": "display_data"
    }
   ],
   "source": [
    "# Testing this out with dy/dx = 4, y(0)=3, 0<x<5, and 100 subintervals\n",
    "constant_diff(4,3,5,100)"
   ]
  },
  {
   "cell_type": "markdown",
   "id": "3f72a4b9",
   "metadata": {},
   "source": [
    "# Solving any dy/dx = \"f(x)\" with y(0)=k and a<x<b"
   ]
  },
  {
   "cell_type": "code",
   "execution_count": 85,
   "id": "10703a1f",
   "metadata": {},
   "outputs": [],
   "source": [
    "def func_diff(initial, x_max, interv_num):\n",
    "    \"\"\"For any dy/dx=\"f(x)\"\", we find that after some math, we get y(x+h)-y(x)=h*\"f(x)\", which becomes\n",
    "    D1*y(x)=h*\"f(x)\"*[y(0);1;1;...]. This gives us y(x)=h*D1^{-1}*[y(0);f(0);f(1);...]\".\"\"\"\n",
    "    import numpy as np\n",
    "    import matplotlib.pyplot as plt\n",
    "    \n",
    "    # Make our array of x-inputs and our interval width constant\n",
    "    x_min = 0\n",
    "    x_val = np.linspace(x_min, x_max, interv_num+1)\n",
    "    interv_width = (x_max - x_min) / interv_num\n",
    "    \n",
    "    \n",
    "    \n",
    "    \n",
    "    # Make our array of dy/dx outputs\n",
    "    # IMPORTANT\n",
    "    yp_val = x_val ** 3 - 4 * x_val ** 2\n",
    "    \n",
    "    \n",
    "    \n",
    "    \n",
    "    # Generate our I-matrix\n",
    "    # Start with our initial value at y(0)\n",
    "    i_matrix = np.array([initial])\n",
    "    \n",
    "    # Append the other values of \"f(x)\"\n",
    "    i_matrix = np.append( i_matrix , yp_val[:-1] )\n",
    "    \n",
    "    \n",
    "    \n",
    "\n",
    "    # Create our y-values based on our equation y(x) = (interval width) * (inverse D1) * (func) * (I matrix)\n",
    "    y_val = interv_width * np.matmul( np.linalg.inv(D1(interv_num+1)) , i_matrix )\n",
    "    \n",
    "    \n",
    "    \n",
    "    \n",
    "    # Plot our values\n",
    "    plt.plot(x_val, y_val, color=\"black\")\n",
    "    plt.grid()\n",
    "    plt.xlabel(\"X-Axis\")\n",
    "    plt.ylabel(\"Y-Axis\")\n",
    "    plt.show()"
   ]
  },
  {
   "cell_type": "code",
   "execution_count": 86,
   "id": "f3b78907",
   "metadata": {},
   "outputs": [
    {
     "data": {
      "image/png": "[encoded data removed]",
      "text/plain": [
       "<Figure size 432x288 with 1 Axes>"
      ]
     },
     "metadata": {
      "needs_background": "light"
     },
     "output_type": "display_data"
    }
   ],
   "source": [
    "# Testing this out with dy/dx = x^3-4x^2, y(0)=2, 0<x<10, and 1000 subintervals\n",
    "# Remember the function is func_diff(initial, x_max, interv_num)\n",
    "func_diff(2,10,1000)"
   ]
  },
  {
   "cell_type": "code",
   "execution_count": null,
   "id": "654cb142",
   "metadata": {},
   "outputs": [],
   "source": []
  }
 ],
 "metadata": {
  "kernelspec": {
   "display_name": "Python 3 (ipykernel)",
   "language": "python",
   "name": "python3"
  },
  "language_info": {
   "codemirror_mode": {
    "name": "ipython",
    "version": 3
   },
   "file_extension": ".py",
   "mimetype": "text/x-python",
   "name": "python",
   "nbconvert_exporter": "python",
   "pygments_lexer": "ipython3",
   "version": "3.11.3"
  }
 },
 "nbformat": 4,
 "nbformat_minor": 5
}
