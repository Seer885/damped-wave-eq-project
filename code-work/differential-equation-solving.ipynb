{
 "cells": [
  {
   "cell_type": "code",
   "execution_count": 9,
   "id": "21fb7e91",
   "metadata": {},
   "outputs": [],
   "source": [
    "def ones_matrix(dimension):\n",
    "    \"\"\"Used to make a matrix that when multiplied to a 1D array of values and divided by the length of the x-values\n",
    "    will calculate the slope of each interval.\"\"\"\n",
    "    import numpy as np\n",
    "\n",
    "    # Generate the 0 matrix as our starting point\n",
    "    matrix = np.zeros((dimension,dimension))\n",
    "\n",
    "    \n",
    "    \n",
    "\n",
    "    # Loop to cycle through every single value in the matrix\n",
    "    for row in range(dimension):\n",
    "        for column in range(dimension):\n",
    "        \n",
    "        # If the row and column have the same values, then we are at a diagonal\n",
    "            if row - column == 0:\n",
    "                matrix[row][column] = -1\n",
    "        \n",
    "        # If column value is 1 higher than row value, then we are at a value following the diagonal.\n",
    "            elif column - row == 1:\n",
    "                matrix[row][column] = 1\n",
    "\n",
    "                \n",
    "                \n",
    "      \n",
    "    return matrix\n",
    "\n",
    "# Create our D1 and D2 matrices\n",
    "import numpy as np\n",
    "D1 = ones_matrix(10)\n",
    "D2 = np.matmul(D1,D1)"
   ]
  },
  {
   "cell_type": "markdown",
   "id": "a62821c7",
   "metadata": {},
   "source": [
    "# Solving the differential equation y''(x) = 2y+1\n",
    "# In linear algebra, y''(x)=2y+1 is the same as D2 * y = 2 * y + 1.\n",
    "# This gives us D2 * y - 2 * y=1, or y(D2-(2's matrix))=(1's matrix).\n",
    "# Solution is y(x) = (1matrix) * (D2-2matrix)^{-1}."
   ]
  },
  {
   "cell_type": "code",
   "execution_count": 12,
   "id": "b0703350",
   "metadata": {},
   "outputs": [
    {
     "data": {
      "text/plain": [
       "array([[-0.0022779 , -0.00683371, -0.01366743, -0.02277904, -0.03416856,\n",
       "        -0.04783599, -0.06378132, -0.08200456, -0.10250569, -0.12528474],\n",
       "       [-0.0022779 , -0.00683371, -0.01366743, -0.02277904, -0.03416856,\n",
       "        -0.04783599, -0.06378132, -0.08200456, -0.10250569, -0.12528474],\n",
       "       [-0.0022779 , -0.00683371, -0.01366743, -0.02277904, -0.03416856,\n",
       "        -0.04783599, -0.06378132, -0.08200456, -0.10250569, -0.12528474],\n",
       "       [-0.0022779 , -0.00683371, -0.01366743, -0.02277904, -0.03416856,\n",
       "        -0.04783599, -0.06378132, -0.08200456, -0.10250569, -0.12528474],\n",
       "       [-0.0022779 , -0.00683371, -0.01366743, -0.02277904, -0.03416856,\n",
       "        -0.04783599, -0.06378132, -0.08200456, -0.10250569, -0.12528474],\n",
       "       [-0.0022779 , -0.00683371, -0.01366743, -0.02277904, -0.03416856,\n",
       "        -0.04783599, -0.06378132, -0.08200456, -0.10250569, -0.12528474],\n",
       "       [-0.0022779 , -0.00683371, -0.01366743, -0.02277904, -0.03416856,\n",
       "        -0.04783599, -0.06378132, -0.08200456, -0.10250569, -0.12528474],\n",
       "       [-0.0022779 , -0.00683371, -0.01366743, -0.02277904, -0.03416856,\n",
       "        -0.04783599, -0.06378132, -0.08200456, -0.10250569, -0.12528474],\n",
       "       [-0.0022779 , -0.00683371, -0.01366743, -0.02277904, -0.03416856,\n",
       "        -0.04783599, -0.06378132, -0.08200456, -0.10250569, -0.12528474],\n",
       "       [-0.0022779 , -0.00683371, -0.01366743, -0.02277904, -0.03416856,\n",
       "        -0.04783599, -0.06378132, -0.08200456, -0.10250569, -0.12528474]])"
      ]
     },
     "execution_count": 12,
     "metadata": {},
     "output_type": "execute_result"
    }
   ],
   "source": [
    "shape = D2.shape\n",
    "mat_1 = np.ones(shape)\n",
    "mat_2 = np.ones(shape) * 2\n",
    "\n",
    "y_val = np.matmul(mat_1,np.linalg.inv(D2 - mat_2))\n",
    "y_val"
   ]
  },
  {
   "cell_type": "code",
   "execution_count": null,
   "id": "34f4e7d0",
   "metadata": {},
   "outputs": [],
   "source": []
  }
 ],
 "metadata": {
  "kernelspec": {
   "display_name": "Python 3 (ipykernel)",
   "language": "python",
   "name": "python3"
  },
  "language_info": {
   "codemirror_mode": {
    "name": "ipython",
    "version": 3
   },
   "file_extension": ".py",
   "mimetype": "text/x-python",
   "name": "python",
   "nbconvert_exporter": "python",
   "pygments_lexer": "ipython3",
   "version": "3.11.3"
  }
 },
 "nbformat": 4,
 "nbformat_minor": 5
}
