{
 "cells": [
  {
   "cell_type": "code",
   "execution_count": 22,
   "id": "6f2d9bed",
   "metadata": {},
   "outputs": [],
   "source": [
    "def D1(dimension):\n",
    "    \"\"\"Used to make a matrix that enables y'(x) = 1/h * D1 * y(x)\"\"\"\n",
    "    import numpy as np\n",
    "\n",
    "    # Generate the 0 matrix as our starting point\n",
    "    matrix = np.zeros((dimension,dimension))\n",
    "\n",
    "    \n",
    "    \n",
    "\n",
    "    # Loop to cycle through every single value in the matrix\n",
    "    for row in range(dimension):\n",
    "        for column in range(dimension):\n",
    "        \n",
    "        # If the row and column have the same values, then we are at a diagonal\n",
    "            if row - column == 0:\n",
    "                matrix[row][column] = 1\n",
    "        \n",
    "        # If column value is 1 lower than row value, then we are at a value following the diagonal.\n",
    "            elif column - row == -1:\n",
    "                matrix[row][column] = -1\n",
    "\n",
    "                \n",
    "                \n",
    "      \n",
    "    return matrix"
   ]
  },
  {
   "cell_type": "markdown",
   "id": "f6910e8e",
   "metadata": {},
   "source": [
    "# Solving any dy/dx = c with y(0)=k and a<x<b "
   ]
  },
  {
   "cell_type": "code",
   "execution_count": 23,
   "id": "f556ff7f",
   "metadata": {},
   "outputs": [],
   "source": [
    "def constant_diff(constant, initial, x_max, interv_num):\n",
    "    \"\"\"For any dy/dx=c, we find that after some math, we get y(x+h)-y(x)=h*c, which becomes\n",
    "    D1*y(x)=h*c*[y(0);1;1;...]. This gives us y(x)=D1^{-1}*h*c*I.\"\"\"\n",
    "    import numpy as np\n",
    "    import matplotlib.pyplot as plt\n",
    "    \n",
    "    # Make our array of x-inputs and our interval width constant\n",
    "    x_min = 0\n",
    "    x_val = np.linspace(x_min, x_max, interv_num+1)\n",
    "    interv_width = (x_max - x_min) / interv_num\n",
    "    \n",
    "    \n",
    "    \n",
    "    \n",
    "    # Generate our I-matrix\n",
    "    # Start with our initial value at y(0)\n",
    "    i_matrix = np.array([initial])\n",
    "    \n",
    "    # Append 1's for other values of x\n",
    "    for i in range(interv_num):\n",
    "        i_matrix = np.append( i_matrix , np.array([1]) )\n",
    "    \n",
    "    \n",
    "    \n",
    "\n",
    "    # Create our y-values based on our equation y(x) = (interval width) * (constant) * (inverse D1) * (I matrix) \n",
    "    y_val = interv_width * constant * np.matmul( np.linalg.inv(D1(interv_num+1)) , i_matrix )\n",
    "    \n",
    "    \n",
    "    \n",
    "    \n",
    "    # Plot our values\n",
    "    plt.plot(x_val, y_val, color=\"black\")\n",
    "    plt.grid()\n",
    "    plt.xlabel(\"X-Axis\")\n",
    "    plt.ylabel(\"Y-Axis\")\n",
    "    plt.show()"
   ]
  },
  {
   "cell_type": "code",
   "execution_count": 24,
   "id": "f2fed4b7",
   "metadata": {},
   "outputs": [
    {
     "data": {
      "image/png": "[encoded data removed]",
      "text/plain": [
       "<Figure size 432x288 with 1 Axes>"
      ]
     },
     "metadata": {
      "needs_background": "light"
     },
     "output_type": "display_data"
    }
   ],
   "source": [
    "# Testing this out with dy/dx = 4, y(0)=3, 0<x<5, and 100 subintervals\n",
    "constant_diff(4,3,5,100)"
   ]
  },
  {
   "cell_type": "markdown",
   "id": "4ace28d5",
   "metadata": {},
   "source": [
    "# Solving any dy/dx = \"f(x)\" with y(0)=k and a<x<b"
   ]
  },
  {
   "cell_type": "code",
   "execution_count": 68,
   "id": "ded98aff",
   "metadata": {},
   "outputs": [],
   "source": [
    "def func_diff(initial, x_max, interv_num):\n",
    "    \"\"\"For any dy/dx=\"f(x)\"\", we find that after some math, we get y(x+h)-y(x)=h*\"f(x)\", which becomes\n",
    "    D1*y(x)=h*\"f(x)\"*[y(0);1;1;...]. This gives us y(x)=D1^{-1}*h*\"f(x)\"*I.\"\"\"\n",
    "    import numpy as np\n",
    "    import matplotlib.pyplot as plt\n",
    "    \n",
    "    # Make our array of x-inputs and our interval width constant\n",
    "    x_min = 0\n",
    "    x_val = np.linspace(x_min, x_max, interv_num+1)\n",
    "    interv_width = (x_max - x_min) / interv_num\n",
    "    \n",
    "    \n",
    "    \n",
    "    \n",
    "    # Make our array of dy/dx outputs\n",
    "    # IMPORTANT\n",
    "    yp_val = x_val ** 2\n",
    "    \n",
    "    \n",
    "    \n",
    "    \n",
    "    # Generate our I-matrix\n",
    "    # Start with our initial value at y(0)\n",
    "    i_matrix = np.array([initial])\n",
    "    \n",
    "    # Append 1's for other values of x\n",
    "    for i in range(interv_num):\n",
    "        i_matrix = np.append( i_matrix , np.array([1]) )\n",
    "    \n",
    "    \n",
    "    \n",
    "\n",
    "    # Create our y-values based on our equation y(x) = (interval width) * (inverse D1) * (func) * (I matrix)\n",
    "    y_val = interv_width * np.linalg.inv(D1(interv_num+1)) * yp_val * i_matrix\n",
    "    print(x_val)\n",
    "    print(y_val)\n",
    "    \n",
    "    \n",
    "    \n",
    "    \n",
    "    # Plot our values\n",
    "    #plt.plot(x_val, y_val, color=\"black\")\n",
    "    #plt.grid()\n",
    "    #plt.xlabel(\"X-Axis\")\n",
    "    #plt.ylabel(\"Y-Axis\")\n",
    "    #plt.show()"
   ]
  },
  {
   "cell_type": "code",
   "execution_count": 69,
   "id": "51e8b00a",
   "metadata": {},
   "outputs": [
    {
     "name": "stdout",
     "output_type": "stream",
     "text": [
      "[0. 1. 2. 3. 4. 5.]\n",
      "[[55.  0.  0.  0.  0.  0.]\n",
      " [55. 55.  0.  0.  0.  0.]\n",
      " [55. 55. 55.  0.  0.  0.]\n",
      " [55. 55. 55. 55.  0.  0.]\n",
      " [55. 55. 55. 55. 55.  0.]\n",
      " [55. 55. 55. 55. 55. 55.]]\n"
     ]
    }
   ],
   "source": [
    "# Testing this out with dy/dx = x^2, y(0)=0, 0<x<5, and 5 subintervals\n",
    "func_diff(2,5,5)"
   ]
  },
  {
   "cell_type": "code",
   "execution_count": null,
   "id": "ed07c48a",
   "metadata": {},
   "outputs": [],
   "source": []
  }
 ],
 "metadata": {
  "kernelspec": {
   "display_name": "Python 3 (ipykernel)",
   "language": "python",
   "name": "python3"
  },
  "language_info": {
   "codemirror_mode": {
    "name": "ipython",
    "version": 3
   },
   "file_extension": ".py",
   "mimetype": "text/x-python",
   "name": "python",
   "nbconvert_exporter": "python",
   "pygments_lexer": "ipython3",
   "version": "3.11.3"
  }
 },
 "nbformat": 4,
 "nbformat_minor": 5
}
