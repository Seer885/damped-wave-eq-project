{
 "cells": [
  {
   "cell_type": "markdown",
   "id": "d7a72eea",
   "metadata": {},
   "source": [
    "# Making our nxn matrix whose diagonals are -1 and first value afterwards is 1"
   ]
  },
  {
   "cell_type": "code",
   "execution_count": 2,
   "id": "cba0be95",
   "metadata": {},
   "outputs": [],
   "source": [
    "def ones_matrix(dimension):\n",
    "    \"\"\"Used to make a matrix that when multiplied to a 1D array of values and divided by the length of the x-values\n",
    "    will calculate the slope of each interval.\"\"\"\n",
    "    import numpy as np\n",
    "\n",
    "    # Generate the 0 matrix as our starting point\n",
    "    matrix = np.zeros((dimension,dimension))\n",
    "\n",
    "    \n",
    "    \n",
    "\n",
    "    # Loop to cycle through every single value in the matrix\n",
    "    for row in range(dimension):\n",
    "        for column in range(dimension):\n",
    "        \n",
    "        # If the row and column have the same values, then we are at a diagonal\n",
    "            if row - column == 0:\n",
    "                matrix[row][column] = -1\n",
    "        \n",
    "        # If column value is 1 higher than row value, then we are at a value following the diagonal.\n",
    "            elif column - row == 1:\n",
    "                matrix[row][column] = 1\n",
    "\n",
    "                \n",
    "                \n",
    "      \n",
    "    return matrix"
   ]
  },
  {
   "cell_type": "markdown",
   "id": "3879f5f4",
   "metadata": {},
   "source": [
    "# Approximating the derivative numerically using Linear Algebra\n",
    "# f(x) = x^3+5x^2+x"
   ]
  },
  {
   "cell_type": "code",
   "execution_count": 3,
   "id": "3232a32d",
   "metadata": {},
   "outputs": [
    {
     "data": {
      "image/png": "[encoded data removed]",
      "text/plain": [
       "<Figure size 432x288 with 1 Axes>"
      ]
     },
     "metadata": {
      "needs_background": "light"
     },
     "output_type": "display_data"
    }
   ],
   "source": [
    "import numpy as np\n",
    "import matplotlib.pyplot as plt\n",
    "\n",
    "# Define our initial function and our known exact derivative of it\n",
    "def func(x):\n",
    "    \"\"\"Takes an array of input values and returns an array of the output values when\n",
    "    plugged into a desired function.\"\"\"\n",
    "    return x ** 3 + 5 * x ** 2 + x\n",
    "\n",
    "def exact_deriv(x):\n",
    "    \"\"\"Similar as the above user-defined function, except the exact derivative of the\n",
    "    starting function is used instead.\"\"\"\n",
    "    return 3 * x ** 2 + 5 * 2 * x + 1\n",
    "\n",
    "\n",
    "\n",
    "\n",
    "# Define our input x-values and other variables\n",
    "# Define our max and min input value\n",
    "x_min = 0\n",
    "x_max = 10\n",
    "\n",
    "# n will divide our range into distinct x-values\n",
    "interv_num = 1000\n",
    "x_val = np.linspace(x_min, x_max, interv_num+1)\n",
    "\n",
    "# h will be relevant when estimating the derivative\n",
    "interv_width = (x_max - x_min) / interv_num\n",
    "\n",
    "\n",
    "\n",
    "\n",
    "# Defining and plotting our y-values and exact derivative values\n",
    "y_val = func(x_val)\n",
    "plt.plot(x_val, y_val, color=\"black\")\n",
    "\n",
    "deriv_val = exact_deriv(x_val)\n",
    "plt.plot(x_val, deriv_val, color=\"red\")\n",
    "\n",
    "\n",
    "\n",
    "\n",
    "# We hit an issue where if we use our P matrix as-is for Py=y', we'll end up with a y-prime value that's an outlier.\n",
    "# Our issue is our last row in P being [... 0 -1], so we resolve this by removing that row\n",
    "slope_mat = ones_matrix(interv_num+1)\n",
    "slope_mat = slope_mat[:-1]\n",
    "\n",
    "#Since our approximation will have now have one less y-value, we must also have one less x-value to plot properly\n",
    "xp_val = x_val[:-1]\n",
    "\n",
    "\n",
    "\n",
    "\n",
    "# Multiply our P-matrix and our y-values vector and divide by width of interv_width to approximation y-prime\n",
    "yp_val = np.matmul(slope_mat , y_val) / interv_width\n",
    "\n",
    "# Plot the above array\n",
    "plt.plot(xp_val, yp_val, color=\"red\", linestyle=\"dotted\")\n",
    "\n",
    "\n",
    "\n",
    "\n",
    "# Set up our cosmetic expectations for our plot and display the graph\n",
    "plt.grid()\n",
    "plt.xlabel(\"X-Axis\")\n",
    "plt.ylabel(\"Y-Axis\")\n",
    "plt.show()"
   ]
  },
  {
   "cell_type": "code",
   "execution_count": null,
   "id": "979a106c",
   "metadata": {},
   "outputs": [],
   "source": []
  }
 ],
 "metadata": {
  "kernelspec": {
   "display_name": "Python 3 (ipykernel)",
   "language": "python",
   "name": "python3"
  },
  "language_info": {
   "codemirror_mode": {
    "name": "ipython",
    "version": 3
   },
   "file_extension": ".py",
   "mimetype": "text/x-python",
   "name": "python",
   "nbconvert_exporter": "python",
   "pygments_lexer": "ipython3",
   "version": "3.11.3"
  }
 },
 "nbformat": 4,
 "nbformat_minor": 5
}
