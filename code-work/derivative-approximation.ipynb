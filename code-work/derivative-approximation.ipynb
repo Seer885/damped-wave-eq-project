{
 "cells": [
  {
   "cell_type": "markdown",
   "id": "d7a72eea",
   "metadata": {},
   "source": [
    "# (First Derivative) Making our nxn matrix whose diagonals are -1 and first value afterwards is 1"
   ]
  },
  {
   "cell_type": "code",
   "execution_count": 3,
   "id": "cba0be95",
   "metadata": {},
   "outputs": [],
   "source": [
    "def ones_matrix(dimension):\n",
    "    \"\"\"Used to make a matrix that when multiplied to a 1D array of values and divided by the length of the x-values\n",
    "    will calculate the slope of each interval.\"\"\"\n",
    "    import numpy as np\n",
    "\n",
    "    # Generate the 0 matrix as our starting point\n",
    "    matrix = np.zeros((dimension,dimension))\n",
    "\n",
    "    \n",
    "    \n",
    "\n",
    "    # Loop to cycle through every single value in the matrix\n",
    "    for row in range(dimension):\n",
    "        for column in range(dimension):\n",
    "        \n",
    "        # If the row and column have the same values, then we are at a diagonal\n",
    "            if row - column == 0:\n",
    "                matrix[row][column] = -1\n",
    "        \n",
    "        # If column value is 1 higher than row value, then we are at a value following the diagonal.\n",
    "            elif column - row == 1:\n",
    "                matrix[row][column] = 1\n",
    "\n",
    "                \n",
    "                \n",
    "      \n",
    "    return matrix"
   ]
  },
  {
   "cell_type": "markdown",
   "id": "ac9a1559",
   "metadata": {},
   "source": [
    "# (Second Derivative) Making an nxn matrix whose diagonals are -2 and adjacent values are 1"
   ]
  },
  {
   "cell_type": "code",
   "execution_count": 4,
   "id": "10268b33",
   "metadata": {},
   "outputs": [],
   "source": [
    "def twos_matrix(dimension):\n",
    "    \"\"\"Used to make a matrix that when multiplied to a 1D array of values and divided by the\n",
    "    length of the x-values will calculate the array of second derivative outputs\"\"\"\n",
    "    import numpy as np\n",
    "    \n",
    "    # Generate a zero-matrix as our starting point\n",
    "    matrix = np.zeros((dimension , dimension))\n",
    "    \n",
    "    \n",
    "    \n",
    "    \n",
    "    # Run a loop to go through every value in the matrix\n",
    "    for row in range(dimension):\n",
    "        for column in range(dimension):\n",
    "        \n",
    "            # If the row and column have the same values, then we are at a diagonal\n",
    "            if row - column == 0:\n",
    "                matrix[row][column] = -2\n",
    "        \n",
    "            # If their difference is 1, then we are at a value touching the diagonal.\n",
    "            elif abs(row - column) == 1:\n",
    "                matrix[row][column] = 1\n",
    "    \n",
    "    \n",
    "    \n",
    "    \n",
    "    # Return the generated matrix\n",
    "    return matrix"
   ]
  },
  {
   "cell_type": "markdown",
   "id": "3879f5f4",
   "metadata": {},
   "source": [
    "# Approximating the derivative numerically using Linear Algebra\n",
    "# f(x) = x^4+5x^2+x"
   ]
  },
  {
   "cell_type": "code",
   "execution_count": 5,
   "id": "3232a32d",
   "metadata": {},
   "outputs": [
    {
     "data": {
      "image/png": "[encoded data removed]",
      "text/plain": [
       "<Figure size 432x288 with 1 Axes>"
      ]
     },
     "metadata": {
      "needs_background": "light"
     },
     "output_type": "display_data"
    }
   ],
   "source": [
    "import numpy as np\n",
    "import matplotlib.pyplot as plt\n",
    "\n",
    "# Define our initial function and our known exact derivative of it\n",
    "def func(x):\n",
    "    \"\"\"Takes an array of input values and returns an array of the output values when\n",
    "    plugged into a desired function.\"\"\"\n",
    "    return x ** 4 + 5 * x ** 2 + x\n",
    "\n",
    "def exact_deriv(x):\n",
    "    \"\"\"Similar as the above user-defined function, except the exact derivative of the\n",
    "    starting function is used instead.\"\"\"\n",
    "    return 4 * x ** 3 + 10 * x + 1\n",
    "\n",
    "def exact_deriv2(x):\n",
    "    \"\"\"Calculates the second derivative of inputs.\"\"\"\n",
    "    return 12 * x ** 2 + 10\n",
    "\n",
    "\n",
    "\n",
    "\n",
    "# Define our input x-values and other variables\n",
    "# Define our max and min input value\n",
    "x_min = 0\n",
    "x_max = 5\n",
    "\n",
    "# n will divide our range into distinct x-values\n",
    "interv_num = 100\n",
    "x_val = np.linspace(x_min, x_max, interv_num+1)\n",
    "\n",
    "# h will be relevant when estimating the derivative\n",
    "interv_width = (x_max - x_min) / interv_num\n",
    "\n",
    "\n",
    "\n",
    "\n",
    "# Defining and plotting our y-values and exact derivative values\n",
    "y_val = func(x_val)\n",
    "plt.plot(x_val, y_val, color=\"black\")\n",
    "\n",
    "deriv_1_val = exact_deriv(x_val)\n",
    "plt.plot(x_val, deriv_1_val, color=\"red\")\n",
    "\n",
    "deriv_2_val = exact_deriv2(x_val)\n",
    "plt.plot(x_val, deriv_2_val, color=\"orange\")\n",
    "\n",
    "\n",
    "\n",
    "# Approximating our FIRST derivative values \n",
    "# Generate our first derivative matrix D1, and trim off the last row since it produces an outlier\n",
    "Dmat_1 = ones_matrix(interv_num+1)\n",
    "Dmat_1 = Dmat_1[:-1]\n",
    "\n",
    "# Multiply D1 and our y-values vector and divide by width of interv_width to approximation y-prime\n",
    "yp_val = np.matmul(Dmat_1 , y_val) / interv_width\n",
    "\n",
    "# Trim off the last x-value row to ensure it can be plotted, then plot\n",
    "xp_val = x_val[:-1]\n",
    "plt.plot(xp_val, yp_val, color=\"red\", linestyle=\"dotted\")\n",
    "\n",
    "\n",
    "\n",
    "\n",
    "# Approximating our SECOND derivative values\n",
    "# Generate our second derivative matrix D2, and trim off the first and last rows since those produce outliers\n",
    "Dmat_2 = twos_matrix(interv_num+1)\n",
    "Dmat_2 = Dmat_2[1:-1]\n",
    "\n",
    "# Multiply D2 and our y-values vector and divide by 2*width of interv_width to approximation y-prime\n",
    "ypp_val = np.matmul(Dmat_2 , y_val) / (interv_width ** 2)\n",
    "\n",
    "\n",
    "# Trim off the first and last x-value rows to ensure it can be plotted, then plot\n",
    "xpp_val = x_val[1:-1]\n",
    "plt.plot(xpp_val, ypp_val, color=\"orange\", linestyle=\"dotted\")\n",
    "\n",
    "\n",
    "\n",
    "\n",
    "# Set up our cosmetic expectations for our plot and display the graph\n",
    "plt.grid()\n",
    "plt.xlabel(\"X-Axis\")\n",
    "plt.ylabel(\"Y-Axis\")\n",
    "plt.show()"
   ]
  }
 ],
 "metadata": {
  "kernelspec": {
   "display_name": "Python 3 (ipykernel)",
   "language": "python",
   "name": "python3"
  },
  "language_info": {
   "codemirror_mode": {
    "name": "ipython",
    "version": 3
   },
   "file_extension": ".py",
   "mimetype": "text/x-python",
   "name": "python",
   "nbconvert_exporter": "python",
   "pygments_lexer": "ipython3",
   "version": "3.11.3"
  }
 },
 "nbformat": 4,
 "nbformat_minor": 5
}
