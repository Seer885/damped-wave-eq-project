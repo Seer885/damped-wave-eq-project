{
 "cells": [
  {
   "cell_type": "markdown",
   "id": "7b7560d4",
   "metadata": {},
   "source": [
    "# Generate our second-order antiderivative matrix"
   ]
  },
  {
   "cell_type": "code",
   "execution_count": 9,
   "id": "8b7c2669",
   "metadata": {},
   "outputs": [],
   "source": [
    "def inverse_D2(dimension):\n",
    "    \"\"\"Multiply to our array of second derivative outputs and multiply h^2 to get our original function f(x).\n",
    "    \n",
    "    We know D2 is an nxn matrix whose diagonals are -2 and adjacent values are 1. We calculate the derivative via\n",
    "    (D2)(y)/(h^2) = y'', so our antiderivative is y = (y'')(h^2)(D2^{-1}), meaning we need the inverse of D2.\"\"\"\n",
    "    import numpy as np\n",
    "    \n",
    "    # Generate a zero-matrix as our starting point\n",
    "    matrix = np.zeros((dimension , dimension))\n",
    "    \n",
    "    \n",
    "    \n",
    "    \n",
    "    # Run a loop to go through every value in the matrix\n",
    "    for row in range(dimension):\n",
    "        for column in range(dimension):\n",
    "        \n",
    "            # If the row and column have the same values, then we are at a diagonal\n",
    "            if row - column == 0:\n",
    "                matrix[row][column] = -2\n",
    "        \n",
    "            # If their difference is 1, then we are at a value touching the diagonal.\n",
    "            elif abs(row - column) == 1:\n",
    "                matrix[row][column] = 1\n",
    "    \n",
    "    \n",
    "    \n",
    "    \n",
    "    # Return the inverse of the generated matrix\n",
    "    return np.linalg.inv(matrix)"
   ]
  },
  {
   "cell_type": "markdown",
   "id": "20deae42",
   "metadata": {},
   "source": [
    "# Approximate the solution to a second-order DE\n",
    "# We start with f''(x)=2, f(0)=0, & f'(0)=2."
   ]
  },
  {
   "cell_type": "code",
   "execution_count": 21,
   "id": "5e2e5ebf",
   "metadata": {},
   "outputs": [
    {
     "data": {
      "image/png": "[encoded data removed]",
      "text/plain": [
       "<Figure size 432x288 with 1 Axes>"
      ]
     },
     "metadata": {
      "needs_background": "light"
     },
     "output_type": "display_data"
    }
   ],
   "source": [
    "import numpy as np\n",
    "import matplotlib.pyplot as plt\n",
    "\n",
    "# Define our initial function and our exact end goal function for comparison purposes\n",
    "def func2(x):\n",
    "    \"\"\"Inputs an array of x-values and outputs an array of the second order derivative y-values.\"\"\"\n",
    "    num_vals = x.size\n",
    "    return np.ones(num_vals) * 2\n",
    "\n",
    "def exact_func(x):\n",
    "    \"\"\"Inputs an array of x-values and outputs an array of the exact y-values of the original function.\"\"\"\n",
    "    return x ** 2 + x\n",
    "\n",
    "\n",
    "\n",
    "\n",
    "# Define our input x-values and other important variables\n",
    "# Setting our min and max x-values\n",
    "x_min = 0\n",
    "x_max = 5\n",
    "\n",
    "# Create our array of inputs by dividing it into n distinct subintervals\n",
    "num_interv = 100\n",
    "x_val = np.linspace(x_min, x_max, num_interv+1)\n",
    "\n",
    "# Define our subinterval width\n",
    "interv_width = (x_max-x_min) / num_interv\n",
    "\n",
    "\n",
    "\n",
    "\n",
    "# Defining and plotting our exact outputs\n",
    "exac_y_val = exact_func(x_val)\n",
    "plt.plot(x_val, exac_y_val, color=\"black\")\n",
    "\n",
    "deriv2_val = func2(x_val)\n",
    "plt.plot(x_val, deriv2_val, color=\"orange\")\n",
    "\n",
    "\n",
    "\n",
    "\n",
    "# Creating our antiderivative matrix and multiply it to our modified array of second derivative outputs\n",
    "antid_matrix = inverse_D2(num_interv+1)\n",
    "step1 = deriv2_val * (interv_width ** 2)\n",
    "y_val = np.matmul(antid_matrix, step1)\n",
    "plt.plot(x_val, y_val, color=\"black\", linestyle=\"dotted\")\n",
    "\n",
    "\n",
    "\n",
    "# Set up our cosmetic expectations for our plot and display the graph\n",
    "plt.grid()\n",
    "plt.xlabel(\"X-Axis\")\n",
    "plt.ylabel(\"Y-Axis\")\n",
    "plt.show()"
   ]
  },
  {
   "cell_type": "code",
   "execution_count": null,
   "id": "5b593897",
   "metadata": {},
   "outputs": [],
   "source": []
  }
 ],
 "metadata": {
  "kernelspec": {
   "display_name": "Python 3 (ipykernel)",
   "language": "python",
   "name": "python3"
  },
  "language_info": {
   "codemirror_mode": {
    "name": "ipython",
    "version": 3
   },
   "file_extension": ".py",
   "mimetype": "text/x-python",
   "name": "python",
   "nbconvert_exporter": "python",
   "pygments_lexer": "ipython3",
   "version": "3.11.3"
  }
 },
 "nbformat": 4,
 "nbformat_minor": 5
}
