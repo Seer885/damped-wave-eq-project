{
 "cells": [
  {
   "cell_type": "markdown",
   "id": "b3a0ac4c",
   "metadata": {},
   "source": [
    "# Creating an nxn matrix whose diagonal entries are 1, whose entries touching the diagonals are -2, and whose other values are 0"
   ]
  },
  {
   "cell_type": "code",
   "execution_count": 13,
   "id": "e1e04ac7",
   "metadata": {},
   "outputs": [
    {
     "name": "stdout",
     "output_type": "stream",
     "text": [
      "How big will your nxn matrix be? one\n",
      "Error! A single integer was expected. Please try again.\n",
      "\n",
      "How big will your nxn matrix be? 3\n",
      "[[ 1. -2.  0.]\n",
      " [-2.  1. -2.]\n",
      " [ 0. -2.  1.]]\n"
     ]
    }
   ],
   "source": [
    "import numpy as np\n",
    "\n",
    "# Define the size of the matrix\n",
    "validity = False\n",
    "while validity != True:\n",
    "    dimension = input(\"How big will your nxn matrix be? \")\n",
    "    \n",
    "    # Error handling included in case the user doesn't enter a valid integer\n",
    "    try:\n",
    "        dimension = int(dimension)\n",
    "    except ValueError:\n",
    "        print(\"Error! A single integer was expected. Please try again.\\n\")\n",
    "    except:\n",
    "        print(\"Something went wrong. Please make sure your input is a single integer.\")\n",
    "    else:\n",
    "        validity = True\n",
    "\n",
    "\n",
    "\n",
    "# Generate the 0 matrix as our starting point\n",
    "# We choose to use this since as our matrix gets bigger, more of its entries will be 0\n",
    "matrix = np.zeros((dimension , dimension))\n",
    "\n",
    "\n",
    "\n",
    "# For loop to cycle through every single value in the matrix\n",
    "for row in range(dimension):\n",
    "    for column in range(dimension):\n",
    "        \n",
    "        # If the row and column have the same values, then we are at a diagonal\n",
    "        if row - column == 0:\n",
    "            matrix[row][column] = 1\n",
    "        \n",
    "        # If their difference is 1, then we are at a value touching the diagonal.\n",
    "        elif abs(row - column) == 1:\n",
    "            matrix[row][column] = -2\n",
    "\n",
    "            \n",
    "            \n",
    "# Print our desired matrix\n",
    "print(matrix)"
   ]
  }
 ],
 "metadata": {
  "kernelspec": {
   "display_name": "Python 3 (ipykernel)",
   "language": "python",
   "name": "python3"
  },
  "language_info": {
   "codemirror_mode": {
    "name": "ipython",
    "version": 3
   },
   "file_extension": ".py",
   "mimetype": "text/x-python",
   "name": "python",
   "nbconvert_exporter": "python",
   "pygments_lexer": "ipython3",
   "version": "3.11.3"
  }
 },
 "nbformat": 4,
 "nbformat_minor": 5
}
