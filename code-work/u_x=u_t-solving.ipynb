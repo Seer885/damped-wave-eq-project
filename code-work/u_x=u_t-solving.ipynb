{
 "cells": [
  {
   "cell_type": "code",
   "execution_count": null,
   "id": "f7b97522",
   "metadata": {},
   "outputs": [],
   "source": [
    "def initial_u_matrix(0):\n",
    "    \"\"\"\n",
    "    Creates a very specific matrix that includes all our initial and boundary values such that our\n",
    "    unknown values are 0.\n",
    "    \n",
    "    This foundation will be:\n",
    "    [u(x_0,t_0) ; u(x_0,t_1) ; u(x_0,t_2) ; ... ; u(x_0,t_n)]\n",
    "    [u(x_1,t_0) ;     0      ;     0      ; ... ;     0     ]\n",
    "    [u(x_2,t_0) ;     0      ;     0      ; ... ;     0     ]\n",
    "    [    ...    ;     0      ;     0      ; ... ;     0     ]\n",
    "    [u(x_n,t_0) ; u(x_n,t_1) ; u(x_n,t_2) ; ... ; u(x_n,t_n)]\n",
    "    =\n",
    "    [ x_0-x_n ;  x_n+t_1  ;  x_n+t_2  ; ... ;  x_n+t_n  ]\n",
    "    [ x_1-x_n ;     0     ;     0     ; ... ;     0     ]\n",
    "    [ x_2-x_n ;     0     ;     0     ; ... ;     0     ]\n",
    "    [   ...   ;     0     ;     0     ; ... ;     0     ]\n",
    "    [    0    ;     0     ;     0     ; ... ;     0     ]\n",
    "    \"\"\"\n",
    "    import numpy as np\n",
    "    \n",
    "    # Create our zero matrix and make the first row 1\n",
    "    matrix = np.zeros((x_matrix.shape))\n",
    "    matrix[0] = 1\n",
    "    \n",
    "    # Make the first column e^x and last row e^t\n",
    "    matrix[:,0] = np.exp(x_matrix[:,0])\n",
    "    matrix[-1] = np.exp(t_matrix[-1])\n",
    "    \n",
    "    return matrix"
   ]
  }
 ],
 "metadata": {
  "kernelspec": {
   "display_name": "Python 3 (ipykernel)",
   "language": "python",
   "name": "python3"
  },
  "language_info": {
   "codemirror_mode": {
    "name": "ipython",
    "version": 3
   },
   "file_extension": ".py",
   "mimetype": "text/x-python",
   "name": "python",
   "nbconvert_exporter": "python",
   "pygments_lexer": "ipython3",
   "version": "3.11.4"
  }
 },
 "nbformat": 4,
 "nbformat_minor": 5
}
