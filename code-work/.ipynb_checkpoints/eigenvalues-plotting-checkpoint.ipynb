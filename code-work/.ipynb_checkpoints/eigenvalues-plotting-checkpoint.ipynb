{
 "cells": [
  {
   "cell_type": "markdown",
   "id": "82d7d4dd",
   "metadata": {},
   "source": [
    "# Generate our D2 matrix"
   ]
  },
  {
   "cell_type": "code",
   "execution_count": 4,
   "id": "7818339e",
   "metadata": {},
   "outputs": [],
   "source": [
    "def D2_matrix(dimension):\n",
    "    \"\"\"Used to create a specific nxn matrix that has important applications towards approximating the\n",
    "    derivative and antiderivative of functions.\"\"\"\n",
    "    import numpy as np\n",
    "    \n",
    "    # Generate a zero-matrix as our starting point\n",
    "    matrix = np.zeros((dimension , dimension))\n",
    "    \n",
    "    \n",
    "    \n",
    "    \n",
    "    # Run a loop to go through every value in the matrix\n",
    "    for row in range(dimension):\n",
    "        for column in range(dimension):\n",
    "        \n",
    "            # If the row and column have the same values, then we are at a diagonal\n",
    "            if row - column == 0:\n",
    "                matrix[row][column] = -2\n",
    "        \n",
    "            # If their difference is 1, then we are at a value touching the diagonal.\n",
    "            elif abs(row - column) == 1:\n",
    "                matrix[row][column] = 1\n",
    "    \n",
    "    \n",
    "    \n",
    "    \n",
    "    # Return the generated matrix\n",
    "    return matrix"
   ]
  },
  {
   "cell_type": "markdown",
   "id": "73f388c0",
   "metadata": {},
   "source": [
    "# Function to generate our eigenplot"
   ]
  },
  {
   "cell_type": "code",
   "execution_count": 29,
   "id": "d574479f",
   "metadata": {},
   "outputs": [],
   "source": [
    "def eigen_plotting(dimension):\n",
    "    \"\"\"By specifying the dimension, this function will make a D2 matrix of that dimension and create an\n",
    "    eigenvalue plot. Google suggests this is a plot where all real numbers live on the horizontal axis and\n",
    "    all complex numbers have their real components on the horizontal axis and their imaginary components\n",
    "    on the verticalaxis.\n",
    "    \n",
    "    For example, 3 is (3,0) while 3+2i is (3,2).\"\"\"\n",
    "    import numpy as np\n",
    "    import matplotlib.pyplot as plt\n",
    "    \n",
    "    \n",
    "    \n",
    "    \n",
    "    # Create our array of eigenvalues\n",
    "    values, vectors = np.linalg.eig( D2_matrix(dimension) )\n",
    "    \n",
    "    \n",
    "    \n",
    "    # Creating our horizontal and vertical values\n",
    "    # Set our X and Y values to empty arrays, which we will append based on if values are real or complex.\n",
    "    x_val = np.array([])\n",
    "    y_val = np.array([])\n",
    "    \n",
    "    # Go through every value of our eigenvalues array\n",
    "    for element in range(values.size):\n",
    "        \n",
    "        #Real values generate the point (value,0) and complex values generate the point (real,complex)\n",
    "        x_val = np.append( x_val , np.array([ np.real(values[element]) ]))\n",
    "        y_val = np.append( y_val , np.array([ np.imag(values[element]) ]))        \n",
    "    \n",
    "    \n",
    "    \n",
    "    \n",
    "    # Plot our eigenvalues and display the graph\n",
    "    plt.scatter(x_val,y_val)\n",
    "    plt.grid()\n",
    "    plt.title(\"Eigenvalues of a \"+str(dimension)+\"x\"+str(dimension)+\" D2 matrix\")\n",
    "    plt.xlabel(\"Real Number\")\n",
    "    plt.ylabel(\"Complex Component\")\n",
    "    plt.show()"
   ]
  },
  {
   "cell_type": "code",
   "execution_count": 31,
   "id": "bca071ec",
   "metadata": {},
   "outputs": [
    {
     "data": {
      "image/png": "[encoded data removed]",
      "text/plain": [
       "<Figure size 432x288 with 1 Axes>"
      ]
     },
     "metadata": {
      "needs_background": "light"
     },
     "output_type": "display_data"
    }
   ],
   "source": [
    "eigen_plotting(500)"
   ]
  }
 ],
 "metadata": {
  "kernelspec": {
   "display_name": "Python 3 (ipykernel)",
   "language": "python",
   "name": "python3"
  },
  "language_info": {
   "codemirror_mode": {
    "name": "ipython",
    "version": 3
   },
   "file_extension": ".py",
   "mimetype": "text/x-python",
   "name": "python",
   "nbconvert_exporter": "python",
   "pygments_lexer": "ipython3",
   "version": "3.11.3"
  }
 },
 "nbformat": 4,
 "nbformat_minor": 5
}
