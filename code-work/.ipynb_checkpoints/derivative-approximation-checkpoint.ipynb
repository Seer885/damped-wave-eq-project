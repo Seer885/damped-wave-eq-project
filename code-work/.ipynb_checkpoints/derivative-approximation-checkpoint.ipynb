{
 "cells": [
  {
   "cell_type": "markdown",
   "id": "d7a72eea",
   "metadata": {},
   "source": [
    "# Making our nxn matrix whose diagonals are -1 and first value afterwards is 1"
   ]
  },
  {
   "cell_type": "code",
   "execution_count": 1,
   "id": "cba0be95",
   "metadata": {},
   "outputs": [],
   "source": [
    "def P(n):\n",
    "    import numpy as np\n",
    "\n",
    "    # Generate the 0 matrix as our starting point\n",
    "    matrix = np.zeros((n,n))\n",
    "\n",
    "    \n",
    "    \n",
    "\n",
    "    # Loop to cycle through every single value in the matrix\n",
    "    for row in range(n):\n",
    "        for column in range(n):\n",
    "        \n",
    "        # If the row and column have the same values, then we are at a diagonal\n",
    "            if row-column == 0:\n",
    "                matrix[row][column] = -1\n",
    "        \n",
    "        # If column value is 1 higher than row value, then we are at a value following the diagonal.\n",
    "            elif column-row == 1:\n",
    "                matrix[row][column] = 1\n",
    "\n",
    "                \n",
    "                \n",
    "                \n",
    "    return matrix"
   ]
  },
  {
   "cell_type": "markdown",
   "id": "3879f5f4",
   "metadata": {},
   "source": [
    "# Approximating the derivative numerically using Linear Algebra\n",
    "# f(x) = -x^3+5x^2+x"
   ]
  },
  {
   "cell_type": "code",
   "execution_count": 2,
   "id": "3232a32d",
   "metadata": {},
   "outputs": [
    {
     "data": {
      "image/png": "[encoded data removed]",
      "text/plain": [
       "<Figure size 432x288 with 1 Axes>"
      ]
     },
     "metadata": {
      "needs_background": "light"
     },
     "output_type": "display_data"
    }
   ],
   "source": [
    "import numpy as np\n",
    "import matplotlib.pyplot as plt\n",
    "\n",
    "# Define our initial function and our known exact derivative of it\n",
    "def f(x):\n",
    "    return -x**3+5*x**2+x\n",
    "\n",
    "def ff(x):\n",
    "    return -3*x**2+5*2*x+1\n",
    "\n",
    "\n",
    "\n",
    "\n",
    "# Define our input x-values and other variables\n",
    "# Define our max and min input value\n",
    "a = 0\n",
    "b = 10\n",
    "\n",
    "# n will divide our range into distinct x-values\n",
    "n = 1000\n",
    "x_val = np.linspace(a, b, n+1)\n",
    "\n",
    "# h will be relevant when estimating the derivative\n",
    "h = (b-a) / n\n",
    "\n",
    "\n",
    "\n",
    "\n",
    "# Defining and plotting our y-values and exact derivative values\n",
    "y_val = f(x_val)\n",
    "plt.plot(x_val, y_val, color=\"black\")\n",
    "\n",
    "d_val = ff(x_val)\n",
    "plt.plot(x_val, d_val, color=\"red\")\n",
    "\n",
    "\n",
    "\n",
    "\n",
    "# We hit an issue where if we use our P matrix as-is for Py=y', we'll end up with a y-prime value that's an outlier.\n",
    "# Our issue is our last row in P being [... 0 -1], so we resolve this by removing that row\n",
    "P_mat = P(n+1)\n",
    "P_mat = P_mat[:-1]\n",
    "\n",
    "#Since our approximation will have now have one less y-value, we must also have one less x-value to plot properly\n",
    "xp_val = x_val[:-1]\n",
    "\n",
    "\n",
    "\n",
    "\n",
    "# Multiply our P-matrix and our y-values vector with 1/h to approximation y-prime, then plot it\n",
    "yp_val = np.matmul(P_mat , y_val) / h\n",
    "plt.plot(xp_val, yp_val, color=\"red\", linestyle=\"dotted\")\n",
    "\n",
    "\n",
    "\n",
    "\n",
    "# Set up our cosmetic expectations for our plot and display the graph\n",
    "plt.grid()\n",
    "plt.xlabel(\"X-Axis\")\n",
    "plt.ylabel(\"Y-Axis\")\n",
    "plt.show()"
   ]
  }
 ],
 "metadata": {
  "kernelspec": {
   "display_name": "Python 3 (ipykernel)",
   "language": "python",
   "name": "python3"
  },
  "language_info": {
   "codemirror_mode": {
    "name": "ipython",
    "version": 3
   },
   "file_extension": ".py",
   "mimetype": "text/x-python",
   "name": "python",
   "nbconvert_exporter": "python",
   "pygments_lexer": "ipython3",
   "version": "3.11.3"
  }
 },
 "nbformat": 4,
 "nbformat_minor": 5
}
