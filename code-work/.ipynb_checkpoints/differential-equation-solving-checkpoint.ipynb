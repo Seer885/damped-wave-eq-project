{
 "cells": [
  {
   "cell_type": "code",
   "execution_count": 9,
   "id": "6f2d9bed",
   "metadata": {},
   "outputs": [],
   "source": [
    "def ones_matrix(dimension):\n",
    "    \"\"\"Used to make a matrix that when multiplied to a 1D array of values and divided by the length of the x-values\n",
    "    will calculate the slope of each interval.\"\"\"\n",
    "    import numpy as np\n",
    "\n",
    "    # Generate the 0 matrix as our starting point\n",
    "    matrix = np.zeros((dimension,dimension))\n",
    "\n",
    "    \n",
    "    \n",
    "\n",
    "    # Loop to cycle through every single value in the matrix\n",
    "    for row in range(dimension):\n",
    "        for column in range(dimension):\n",
    "        \n",
    "        # If the row and column have the same values, then we are at a diagonal\n",
    "            if row - column == 0:\n",
    "                matrix[row][column] = -1\n",
    "        \n",
    "        # If column value is 1 higher than row value, then we are at a value following the diagonal.\n",
    "            elif column - row == 1:\n",
    "                matrix[row][column] = 1\n",
    "\n",
    "                \n",
    "                \n",
    "      \n",
    "    return matrix"
   ]
  },
  {
   "cell_type": "markdown",
   "id": "a3ca004b",
   "metadata": {},
   "source": [
    "# Solving the differential equation y''(x) = 2y+1\n",
    "# In linear algebra, y''(x)=2y+1 is the same as D2 * y = 2 * y + 1.\n",
    "# This gives us D2 * y - 2 * y=1, or y(D2-(2's matrix))=(1's matrix).\n",
    "# Solution is y(x) = (1matrix) * (D2-2matrix)^{-1}."
   ]
  },
  {
   "cell_type": "code",
   "execution_count": 26,
   "id": "c86f99a0",
   "metadata": {},
   "outputs": [],
   "source": [
    "def diffy_solver(size, x_min, x_max):\n",
    "    \"\"\"Input a size value to decide how detailed our solution will be\"\"\"\n",
    "    import numpy as np\n",
    "    import matplotlib.pyplot as plt\n",
    "    \n",
    "    # Make our x-values\n",
    "    # Create our array of inputs by dividing it into n distinct subintervals\n",
    "    num_interv = size\n",
    "    x_val = np.linspace(x_min, x_max, num_interv)\n",
    "    \n",
    "    \n",
    "    \n",
    "    \n",
    "    # Create our D1 and D2 matrices\n",
    "    D1 = ones_matrix(size)\n",
    "    D2 = np.matmul(D1,D1)\n",
    "    \n",
    "    # Create coefficient matrices for our math\n",
    "    mat_1 = np.ones((size,size))\n",
    "    mat_2 = mat_1 * 2\n",
    "    \n",
    "    \n",
    "    \n",
    "    \n",
    "    # Generate our y-values\n",
    "    y_mat = np.matmul(mat_1,np.linalg.inv(D2 - mat_2))\n",
    "    y_val = np.matmul(y_mat,x_val)\n",
    "    print(x_val)\n",
    "    print(y_val)\n",
    "    \n",
    "    \n",
    "    \n",
    "    \n",
    "    # Plot everything\n",
    "    plt.plot(x_val, y_val, color=\"black\", linestyle=\"dotted\")\n",
    "    plt.grid()\n",
    "    plt.xlabel(\"X-Axis\")\n",
    "    plt.ylabel(\"Y-Axis\")\n",
    "    plt.show()"
   ]
  },
  {
   "cell_type": "code",
   "execution_count": 27,
   "id": "e22b7e26",
   "metadata": {},
   "outputs": [
    {
     "name": "stdout",
     "output_type": "stream",
     "text": [
      "[ 0.          1.11111111  2.22222222  3.33333333  4.44444444  5.55555556\n",
      "  6.66666667  7.77777778  8.88888889 10.        ]\n",
      "[-3.75854214 -3.75854214 -3.75854214 -3.75854214 -3.75854214 -3.75854214\n",
      " -3.75854214 -3.75854214 -3.75854214 -3.75854214]\n"
     ]
    },
    {
     "data": {
      "image/png": "[encoded data removed]",
      "text/plain": [
       "<Figure size 432x288 with 1 Axes>"
      ]
     },
     "metadata": {
      "needs_background": "light"
     },
     "output_type": "display_data"
    }
   ],
   "source": [
    "diffy_solver(10,0,10)"
   ]
  },
  {
   "cell_type": "code",
   "execution_count": null,
   "id": "aad10142",
   "metadata": {},
   "outputs": [],
   "source": []
  }
 ],
 "metadata": {
  "kernelspec": {
   "display_name": "Python 3 (ipykernel)",
   "language": "python",
   "name": "python3"
  },
  "language_info": {
   "codemirror_mode": {
    "name": "ipython",
    "version": 3
   },
   "file_extension": ".py",
   "mimetype": "text/x-python",
   "name": "python",
   "nbconvert_exporter": "python",
   "pygments_lexer": "ipython3",
   "version": "3.11.3"
  }
 },
 "nbformat": 4,
 "nbformat_minor": 5
}
