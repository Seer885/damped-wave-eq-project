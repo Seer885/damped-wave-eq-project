{
 "cells": [
  {
   "cell_type": "markdown",
   "id": "27c62e55",
   "metadata": {},
   "source": [
    "# Creating an nxn matrix whose diagonal entries are 1, whose entries touching the diagonals are -2, and whose other values are 0"
   ]
  },
  {
   "cell_type": "code",
   "execution_count": 6,
   "id": "f6f90f29",
   "metadata": {},
   "outputs": [
    {
     "name": "stdout",
     "output_type": "stream",
     "text": [
      "How big will your nxn matrix be? 5\n",
      "[[ 1. -2.  0.  0.  0.]\n",
      " [-2.  1. -2.  0.  0.]\n",
      " [ 0. -2.  1. -2.  0.]\n",
      " [ 0.  0. -2.  1. -2.]\n",
      " [ 0.  0.  0. -2.  1.]]\n"
     ]
    }
   ],
   "source": [
    "import numpy as np\n",
    "\n",
    "# Define the size of the matrix\n",
    "d = int(input(\"How big will your nxn matrix be? \"))\n",
    "\n",
    "\n",
    "\n",
    "# Generate the 0 matrix as our starting point\n",
    "# We choose to use this since as our matrix gets bigger, more of its entries will be 0\n",
    "matrix = np.zeros((d,d))\n",
    "\n",
    "\n",
    "\n",
    "# For loop to cycle through every single value in the matrix\n",
    "for row in range(d):\n",
    "    for column in range(d):\n",
    "        \n",
    "        #If the row and column have the same values, then we are at a diagonal\n",
    "        if row-column == 0:\n",
    "            matrix[row][column] = 1\n",
    "        \n",
    "        #If their difference is 1, then we are at a value touching them.\n",
    "        elif abs(row-column) == 1:\n",
    "            matrix[row][column] = -2\n",
    "\n",
    "            \n",
    "            \n",
    "#Print our desired matrix\n",
    "print(matrix)\n",
    "        \n",
    "            \n",
    "        "
   ]
  },
  {
   "cell_type": "code",
   "execution_count": null,
   "id": "8dc37467",
   "metadata": {},
   "outputs": [],
   "source": []
  },
  {
   "cell_type": "code",
   "execution_count": null,
   "id": "0679b5b2",
   "metadata": {},
   "outputs": [],
   "source": []
  }
 ],
 "metadata": {
  "kernelspec": {
   "display_name": "Python 3 (ipykernel)",
   "language": "python",
   "name": "python3"
  },
  "language_info": {
   "codemirror_mode": {
    "name": "ipython",
    "version": 3
   },
   "file_extension": ".py",
   "mimetype": "text/x-python",
   "name": "python",
   "nbconvert_exporter": "python",
   "pygments_lexer": "ipython3",
   "version": "3.11.3"
  }
 },
 "nbformat": 4,
 "nbformat_minor": 5
}
